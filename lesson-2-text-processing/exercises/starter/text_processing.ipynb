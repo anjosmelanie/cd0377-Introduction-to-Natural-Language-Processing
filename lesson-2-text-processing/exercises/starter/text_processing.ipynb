{
 "cells": [
  {
   "cell_type": "markdown",
   "metadata": {},
   "source": [
    "# Text Processing\n",
    "\n",
    "## Capturing Text Data\n",
    "\n",
    "### Plain Text"
   ]
  },
  {
   "cell_type": "code",
   "execution_count": 2,
   "metadata": {},
   "outputs": [
    {
     "name": "stdout",
     "output_type": "stream",
     "text": [
      "C:\\Repositories\\cd0377-Introduction-to-Natural-Language-Processing\n"
     ]
    }
   ],
   "source": [
    "import os\n",
    "# change directory so code works as intended on my computer\n",
    "os.chdir('C:\\Repositories\\cd0377-Introduction-to-Natural-Language-Processing')\n",
    "print(os.getcwd())"
   ]
  },
  {
   "cell_type": "code",
   "execution_count": 3,
   "metadata": {},
   "outputs": [
    {
     "name": "stdout",
     "output_type": "stream",
     "text": [
      "Hieroglyphic writing dates from c. 3000 BC, and is composed of hundreds of symbols. A hieroglyph can represent a word, a sound, or a silent determinative; and the same symbol can serve different purposes in different contexts. Hieroglyphs were a formal script, used on stone monuments and in tombs, that could be as detailed as individual works of art.\n",
      "\n"
     ]
    }
   ],
   "source": [
    "import os\n",
    "\n",
    "# Read in a plain text file\n",
    "with open(os.path.join(\"data\", \"hieroglyph.txt\"), \"r\") as f:\n",
    "    text = f.read()\n",
    "    print(text)"
   ]
  },
  {
   "cell_type": "markdown",
   "metadata": {},
   "source": [
    "### Tabular Data"
   ]
  },
  {
   "cell_type": "code",
   "execution_count": 4,
   "metadata": {
    "scrolled": true
   },
   "outputs": [
    {
     "data": {
      "text/html": [
       "<div>\n",
       "<style scoped>\n",
       "    .dataframe tbody tr th:only-of-type {\n",
       "        vertical-align: middle;\n",
       "    }\n",
       "\n",
       "    .dataframe tbody tr th {\n",
       "        vertical-align: top;\n",
       "    }\n",
       "\n",
       "    .dataframe thead th {\n",
       "        text-align: right;\n",
       "    }\n",
       "</style>\n",
       "<table border=\"1\" class=\"dataframe\">\n",
       "  <thead>\n",
       "    <tr style=\"text-align: right;\">\n",
       "      <th></th>\n",
       "      <th>publisher</th>\n",
       "      <th>title</th>\n",
       "    </tr>\n",
       "  </thead>\n",
       "  <tbody>\n",
       "    <tr>\n",
       "      <th>0</th>\n",
       "      <td>Livemint</td>\n",
       "      <td>fed's charles plosser sees high bar for change...</td>\n",
       "    </tr>\n",
       "    <tr>\n",
       "      <th>1</th>\n",
       "      <td>IFA Magazine</td>\n",
       "      <td>us open: stocks fall after fed official hints ...</td>\n",
       "    </tr>\n",
       "    <tr>\n",
       "      <th>2</th>\n",
       "      <td>IFA Magazine</td>\n",
       "      <td>fed risks falling 'behind the curve', charles ...</td>\n",
       "    </tr>\n",
       "    <tr>\n",
       "      <th>3</th>\n",
       "      <td>Moneynews</td>\n",
       "      <td>fed's plosser: nasty weather has curbed job gr...</td>\n",
       "    </tr>\n",
       "    <tr>\n",
       "      <th>4</th>\n",
       "      <td>NASDAQ</td>\n",
       "      <td>plosser: fed may have to accelerate tapering pace</td>\n",
       "    </tr>\n",
       "  </tbody>\n",
       "</table>\n",
       "</div>"
      ],
      "text/plain": [
       "      publisher                                              title\n",
       "0      Livemint  fed's charles plosser sees high bar for change...\n",
       "1  IFA Magazine  us open: stocks fall after fed official hints ...\n",
       "2  IFA Magazine  fed risks falling 'behind the curve', charles ...\n",
       "3     Moneynews  fed's plosser: nasty weather has curbed job gr...\n",
       "4        NASDAQ  plosser: fed may have to accelerate tapering pace"
      ]
     },
     "execution_count": 4,
     "metadata": {},
     "output_type": "execute_result"
    }
   ],
   "source": [
    "import pandas as pd\n",
    "\n",
    "# Extract text column from a dataframe\n",
    "df = pd.read_csv(os.path.join(\"data\", \"news.csv\"))\n",
    "df.head()[['publisher', 'title']]\n",
    "\n",
    "# Convert text column to lowercase\n",
    "df['title'] = df['title'].str.lower()\n",
    "df.head()[['publisher', 'title']]"
   ]
  },
  {
   "cell_type": "markdown",
   "metadata": {},
   "source": [
    "### Online Resource"
   ]
  },
  {
   "cell_type": "code",
   "execution_count": 5,
   "metadata": {
    "scrolled": true
   },
   "outputs": [
    {
     "name": "stderr",
     "output_type": "stream",
     "text": [
      "C:\\Users\\Ankira\\anaconda3\\envs\\nlp\\lib\\site-packages\\urllib3\\connectionpool.py:1052: InsecureRequestWarning: Unverified HTTPS request is being made to host 'quotes.rest'. Adding certificate verification is strongly advised. See: https://urllib3.readthedocs.io/en/1.26.x/advanced-usage.html#ssl-warnings\n",
      "  InsecureRequestWarning,\n"
     ]
    },
    {
     "name": "stdout",
     "output_type": "stream",
     "text": [
      "{\n",
      "    \"success\": {\n",
      "        \"total\": 1\n",
      "    },\n",
      "    \"contents\": {\n",
      "        \"quotes\": [\n",
      "            {\n",
      "                \"quote\": \"Successful people appear to be traveling along one continual, successful road. What is not apparent is the perseverance it takes following each defeat to keep you on that road. No one I know of has ever experienced one success after another without defeats, failures, disappointments, and frustrations galore along the way. Learning to overcome those times of agony is what separates the winners from the losers.\",\n",
      "                \"length\": \"412\",\n",
      "                \"author\": \"G. Kingsley Ward\",\n",
      "                \"tags\": {\n",
      "                    \"0\": \"failure\",\n",
      "                    \"1\": \"inspire\",\n",
      "                    \"2\": \"perseverance\",\n",
      "                    \"3\": \"success\",\n",
      "                    \"5\": \"winning\"\n",
      "                },\n",
      "                \"category\": \"inspire\",\n",
      "                \"language\": \"en\",\n",
      "                \"date\": \"2022-07-17\",\n",
      "                \"permalink\": \"https://theysaidso.com/quote/g-kingsley-ward-successful-people-appear-to-be-traveling-along-one-continual-suc\",\n",
      "                \"id\": \"5dCTjGryXcEf_OQaDIIR4AeF\",\n",
      "                \"background\": \"https://theysaidso.com/img/qod/qod-inspire.jpg\",\n",
      "                \"title\": \"Inspiring Quote of the day\"\n",
      "            }\n",
      "        ]\n",
      "    },\n",
      "    \"baseurl\": \"https://theysaidso.com\",\n",
      "    \"copyright\": {\n",
      "        \"year\": 2024,\n",
      "        \"url\": \"https://theysaidso.com\"\n",
      "    }\n",
      "}\n",
      "Successful people appear to be traveling along one continual, successful road. What is not apparent is the perseverance it takes following each defeat to keep you on that road. No one I know of has ever experienced one success after another without defeats, failures, disappointments, and frustrations galore along the way. Learning to overcome those times of agony is what separates the winners from the losers. \n",
      "-- G. Kingsley Ward\n"
     ]
    }
   ],
   "source": [
    "import requests\n",
    "import json\n",
    "\n",
    "# Fetch data from a REST API\n",
    "r = requests.get(\"https://quotes.rest/qod.json\", verify=False)\n",
    "res = r.json()\n",
    "print(json.dumps(res, indent=4))\n",
    "\n",
    "# Extract relevant object and field\n",
    "q = res[\"contents\"][\"quotes\"][0]\n",
    "print(q[\"quote\"], \"\\n--\", q[\"author\"])"
   ]
  },
  {
   "cell_type": "markdown",
   "metadata": {},
   "source": [
    "## Cleaning"
   ]
  },
  {
   "cell_type": "code",
   "execution_count": 6,
   "metadata": {
    "scrolled": true
   },
   "outputs": [
    {
     "name": "stdout",
     "output_type": "stream",
     "text": [
      "<html lang=\"en\" op=\"news\"><head><meta name=\"referrer\" content=\"origin\"><meta name=\"viewport\" content=\"width=device-width, initial-scale=1.0\"><link rel=\"stylesheet\" type=\"text/css\" href=\"news.css?1Bm8NbeTnrHgXtEskWTh\">\n",
      "        <link rel=\"shortcut icon\" href=\"favicon.ico\">\n",
      "          <link rel=\"alternate\" type=\"application/rss+xml\" title=\"RSS\" href=\"rss\">\n",
      "        <title>Hacker News</title></head><body><center><table id=\"hnmain\" border=\"0\" cellpadding=\"0\" cellspacing=\"0\" width=\"85%\" bgcolor=\"#f6f6ef\">\n",
      "        <tr><td bgcolor=\"#ff6600\"><table border=\"0\" cellpadding=\"0\" cellspacing=\"0\" width=\"100%\" style=\"padding:2px\"><tr><td style=\"width:18px;padding-right:4px\"><a href=\"https://news.ycombinator.com\"><img src=\"y18.gif\" width=\"18\" height=\"18\" style=\"border:1px white solid;\"></a></td>\n",
      "                  <td style=\"line-height:12pt; height:10px;\"><span class=\"pagetop\"><b class=\"hnname\"><a href=\"news\">Hacker News</a></b>\n",
      "                            <a href=\"newest\">new</a> | <a href=\"front\">past</a> | <a href=\"newcomments\">comments</a> | <a href=\"ask\">ask</a> | <a href=\"show\">show</a> | <a href=\"jobs\">jobs</a> | <a href=\"submit\">submit</a>            </span></td><td style=\"text-align:right;padding-right:4px;\"><span class=\"pagetop\">\n",
      "                              <a href=\"login?goto=news\">login</a>\n",
      "                          </span></td>\n",
      "              </tr></table></td></tr>\n",
      "<tr id=\"pagespace\" title=\"\" style=\"height:10px\"></tr><tr><td><table border=\"0\" cellpadding=\"0\" cellspacing=\"0\" class=\"itemlist\">\n",
      "              <tr class='athing' id='32126537'>\n",
      "      <td align=\"right\" valign=\"top\" class=\"title\"><span class=\"rank\">1.</span></td>      <td valign=\"top\" class=\"votelinks\"><center><a id='up_32126537'href='vote?id=32126537&amp;how=up&amp;goto=news'><div class='votearrow' title='upvote'></div></a></center></td><td class=\"title\"><a href=\"https://tedgioia.substack.com/p/the-new-numbers-on-music-consumption\" class=\"titlelink\">The New Numbers on Music Consumption Are Ugly</a><span class=\"sitebit comhead\"> (<a href=\"from?site=tedgioia.substack.com\"><span class=\"sitestr\">tedgioia.substack.com</span></a>)</span></td></tr><tr><td colspan=\"2\"></td><td class=\"subtext\">\n",
      "        <span class=\"score\" id=\"score_32126537\">99 points</span> by <a href=\"user?id=jseliger\" class=\"hnuser\">jseliger</a> <span class=\"age\" title=\"2022-07-17T13:22:42\"><a href=\"item?id=32126537\">1 hour ago</a></span> <span id=\"unv_32126537\"></span> | <a href=\"hide?id=32126537&amp;goto=news\">hide</a> | <a href=\"item?id=32126537\">105&nbsp;comments</a>              </td></tr>\n",
      "      <tr class=\"spacer\" style=\"height:5px\"></tr>\n",
      "                <tr class='athing' id='32126637'>\n",
      "      <td align=\"right\" valign=\"top\" class=\"title\"><span class=\"rank\">2.</span></td>      <td valign=\"top\" class=\"votelinks\"><center><a id='up_32126637'href='vote?id=32126637&amp;how=up&amp;goto=news'><div class='votearrow' title='upvote'></div></a></center></td><td class=\"title\"><a href=\"https://www.techradar.com/in/features/ive-started-using-mozilla-firefox-and-now-i-can-never-go-back-to-google-chrome\" class=\"titlelink\">I've started using Mozilla Firefox and now I can never go back to Google Chrome</a><span class=\"sitebit comhead\"> (<a href=\"from?site=techradar.com\"><span class=\"sitestr\">techradar.com</span></a>)</span></td></tr><tr><td colspan=\"2\"></td><td class=\"subtext\">\n",
      "        <span class=\"score\" id=\"score_32126637\">218 points</span> by <a href=\"user?id=p4bl0\" class=\"hnuser\">p4bl0</a> <span class=\"age\" title=\"2022-07-17T13:37:33\"><a href=\"item?id=32126637\">1 hour ago</a></span> <span id=\"unv_32126637\"></span> | <a href=\"hide?id=32126637&amp;goto=news\">hide</a> | <a href=\"item?id=32126637\">104&nbsp;comments</a>              </td></tr>\n",
      "      <tr class=\"spacer\" style=\"height:5px\"></tr>\n",
      "                <tr class='athing' id='32125734'>\n",
      "      <td align=\"right\" valign=\"top\" class=\"title\"><span class=\"rank\">3.</span></td>      <td valign=\"top\" class=\"votelinks\"><center><a id='up_32125734'href='vote?id=32125734&amp;how=up&amp;goto=news'><div class='votearrow' title='upvote'></div></a></center></td><td class=\"title\"><a href=\"https://axle.design/a-systems-model-of-anxiety-driven-procrastination\" class=\"titlelink\">A systems model of anxiety-driven procrastination</a><span class=\"sitebit comhead\"> (<a href=\"from?site=axle.design\"><span class=\"sitestr\">axle.design</span></a>)</span></td></tr><tr><td colspan=\"2\"></td><td class=\"subtext\">\n",
      "        <span class=\"score\" id=\"score_32125734\">132 points</span> by <a href=\"user?id=CiceroCiceronis\" class=\"hnuser\">CiceroCiceronis</a> <span class=\"age\" title=\"2022-07-17T10:45:32\"><a href=\"item?id=32125734\">4 hours ago</a></span> <span id=\"unv_32125734\"></span> | <a href=\"hide?id=32125734&amp;goto=news\">hide</a> | <a href=\"item?id=32125734\">46&nbsp;comments</a>              </td></tr>\n",
      "      <tr class=\"spacer\" style=\"height:5px\"></tr>\n",
      "                <tr class='athing' id='32125834'>\n",
      "      <td align=\"right\" valign=\"top\" class=\"title\"><span class=\"rank\">4.</span></td>      <td valign=\"top\" class=\"votelinks\"><center><a id='up_32125834'href='vote?id=32125834&amp;how=up&amp;goto=news'><div class='votearrow' title='upvote'></div></a></center></td><td class=\"title\"><a href=\"https://www.bayesrulesbook.com/\" class=\"titlelink\">Bayes Rules – An Introduction to Applied Bayesian Modeling (2021)</a><span class=\"sitebit comhead\"> (<a href=\"from?site=bayesrulesbook.com\"><span class=\"sitestr\">bayesrulesbook.com</span></a>)</span></td></tr><tr><td colspan=\"2\"></td><td class=\"subtext\">\n",
      "        <span class=\"score\" id=\"score_32125834\">62 points</span> by <a href=\"user?id=RafelMri\" class=\"hnuser\">RafelMri</a> <span class=\"age\" title=\"2022-07-17T11:09:14\"><a href=\"item?id=32125834\">3 hours ago</a></span> <span id=\"unv_32125834\"></span> | <a href=\"hide?id=32125834&amp;goto=news\">hide</a> | <a href=\"item?id=32125834\">9&nbsp;comments</a>              </td></tr>\n",
      "      <tr class=\"spacer\" style=\"height:5px\"></tr>\n",
      "                <tr class='athing' id='32125951'>\n",
      "      <td align=\"right\" valign=\"top\" class=\"title\"><span class=\"rank\">5.</span></td>      <td valign=\"top\" class=\"votelinks\"><center><a id='up_32125951'href='vote?id=32125951&amp;how=up&amp;goto=news'><div class='votearrow' title='upvote'></div></a></center></td><td class=\"title\"><a href=\"https://gist.github.com/moyix/95ca9a7a26a639b2322c36c7411dc3be\" class=\"titlelink\">Killbutmakeitlooklikeanaccident.sh</a><span class=\"sitebit comhead\"> (<a href=\"from?site=gist.github.com\"><span class=\"sitestr\">gist.github.com</span></a>)</span></td></tr><tr><td colspan=\"2\"></td><td class=\"subtext\">\n",
      "        <span class=\"score\" id=\"score_32125951\">226 points</span> by <a href=\"user?id=app4soft\" class=\"hnuser\">app4soft</a> <span class=\"age\" title=\"2022-07-17T11:38:06\"><a href=\"item?id=32125951\">3 hours ago</a></span> <span id=\"unv_32125951\"></span> | <a href=\"hide?id=32125951&amp;goto=news\">hide</a> | <a href=\"item?id=32125951\">101&nbsp;comments</a>              </td></tr>\n",
      "      <tr class=\"spacer\" style=\"height:5px\"></tr>\n",
      "                <tr class='athing' id='32125868'>\n",
      "      <td align=\"right\" valign=\"top\" class=\"title\"><span class=\"rank\">6.</span></td>      <td valign=\"top\" class=\"votelinks\"><center><a id='up_32125868'href='vote?id=32125868&amp;how=up&amp;goto=news'><div class='votearrow' title='upvote'></div></a></center></td><td class=\"title\"><a href=\"https://begriffs.com/posts/2022-07-17-debugging-gdb-ddd.html\" class=\"titlelink\">Pleasant Debugging with GDB and DDD</a><span class=\"sitebit comhead\"> (<a href=\"from?site=begriffs.com\"><span class=\"sitestr\">begriffs.com</span></a>)</span></td></tr><tr><td colspan=\"2\"></td><td class=\"subtext\">\n",
      "        <span class=\"score\" id=\"score_32125868\">26 points</span> by <a href=\"user?id=signa11\" class=\"hnuser\">signa11</a> <span class=\"age\" title=\"2022-07-17T11:17:01\"><a href=\"item?id=32125868\">3 hours ago</a></span> <span id=\"unv_32125868\"></span> | <a href=\"hide?id=32125868&amp;goto=news\">hide</a> | <a href=\"item?id=32125868\">2&nbsp;comments</a>              </td></tr>\n",
      "      <tr class=\"spacer\" style=\"height:5px\"></tr>\n",
      "                <tr class='athing' id='32125731'>\n",
      "      <td align=\"right\" valign=\"top\" class=\"title\"><span class=\"rank\">7.</span></td>      <td valign=\"top\" class=\"votelinks\"><center><a id='up_32125731'href='vote?id=32125731&amp;how=up&amp;goto=news'><div class='votearrow' title='upvote'></div></a></center></td><td class=\"title\"><a href=\"https://www.washingtonpost.com/technology/2022/07/01/google-privacy-abortion/\" class=\"titlelink\">Okay, Google: To protect women, collect less data about everyone</a><span class=\"sitebit comhead\"> (<a href=\"from?site=washingtonpost.com\"><span class=\"sitestr\">washingtonpost.com</span></a>)</span></td></tr><tr><td colspan=\"2\"></td><td class=\"subtext\">\n",
      "        <span class=\"score\" id=\"score_32125731\">127 points</span> by <a href=\"user?id=johndfsgdgdfg\" class=\"hnuser\">johndfsgdgdfg</a> <span class=\"age\" title=\"2022-07-17T10:45:04\"><a href=\"item?id=32125731\">4 hours ago</a></span> <span id=\"unv_32125731\"></span> | <a href=\"hide?id=32125731&amp;goto=news\">hide</a> | <a href=\"item?id=32125731\">106&nbsp;comments</a>              </td></tr>\n",
      "      <tr class=\"spacer\" style=\"height:5px\"></tr>\n",
      "                <tr class='athing' id='32123804'>\n",
      "      <td align=\"right\" valign=\"top\" class=\"title\"><span class=\"rank\">8.</span></td>      <td valign=\"top\" class=\"votelinks\"><center><a id='up_32123804'href='vote?id=32123804&amp;how=up&amp;goto=news'><div class='votearrow' title='upvote'></div></a></center></td><td class=\"title\"><a href=\"https://cohost.org/blackle/post/42994-contraption\" class=\"titlelink\">An interactive mechanical contraption in pure CSS</a><span class=\"sitebit comhead\"> (<a href=\"from?site=cohost.org\"><span class=\"sitestr\">cohost.org</span></a>)</span></td></tr><tr><td colspan=\"2\"></td><td class=\"subtext\">\n",
      "        <span class=\"score\" id=\"score_32123804\">233 points</span> by <a href=\"user?id=zdw\" class=\"hnuser\">zdw</a> <span class=\"age\" title=\"2022-07-17T02:10:48\"><a href=\"item?id=32123804\">12 hours ago</a></span> <span id=\"unv_32123804\"></span> | <a href=\"hide?id=32123804&amp;goto=news\">hide</a> | <a href=\"item?id=32123804\">49&nbsp;comments</a>              </td></tr>\n",
      "      <tr class=\"spacer\" style=\"height:5px\"></tr>\n",
      "                <tr class='athing' id='32106442'>\n",
      "      <td align=\"right\" valign=\"top\" class=\"title\"><span class=\"rank\">9.</span></td>      <td valign=\"top\" class=\"votelinks\"><center><a id='up_32106442'href='vote?id=32106442&amp;how=up&amp;goto=news'><div class='votearrow' title='upvote'></div></a></center></td><td class=\"title\"><a href=\"https://james.darpinian.com/blog/integer-math-in-javascript\" class=\"titlelink\">Integer Math in JavaScript</a><span class=\"sitebit comhead\"> (<a href=\"from?site=darpinian.com\"><span class=\"sitestr\">darpinian.com</span></a>)</span></td></tr><tr><td colspan=\"2\"></td><td class=\"subtext\">\n",
      "        <span class=\"score\" id=\"score_32106442\">11 points</span> by <a href=\"user?id=simonebrunozzi\" class=\"hnuser\">simonebrunozzi</a> <span class=\"age\" title=\"2022-07-15T09:51:49\"><a href=\"item?id=32106442\">2 hours ago</a></span> <span id=\"unv_32106442\"></span> | <a href=\"hide?id=32106442&amp;goto=news\">hide</a> | <a href=\"item?id=32106442\">5&nbsp;comments</a>              </td></tr>\n",
      "      <tr class=\"spacer\" style=\"height:5px\"></tr>\n",
      "                <tr class='athing' id='32123781'>\n",
      "      <td align=\"right\" valign=\"top\" class=\"title\"><span class=\"rank\">10.</span></td>      <td valign=\"top\" class=\"votelinks\"><center><a id='up_32123781'href='vote?id=32123781&amp;how=up&amp;goto=news'><div class='votearrow' title='upvote'></div></a></center></td><td class=\"title\"><a href=\"https://writing.bobdoto.computer/question-i-just-finished-reading-a-book-and-took-lots-of-notes-now-what/\" class=\"titlelink\">I just finished reading a book and took lots of notes. Now what?</a><span class=\"sitebit comhead\"> (<a href=\"from?site=bobdoto.computer\"><span class=\"sitestr\">bobdoto.computer</span></a>)</span></td></tr><tr><td colspan=\"2\"></td><td class=\"subtext\">\n",
      "        <span class=\"score\" id=\"score_32123781\">157 points</span> by <a href=\"user?id=memorable\" class=\"hnuser\">memorable</a> <span class=\"age\" title=\"2022-07-17T02:05:13\"><a href=\"item?id=32123781\">12 hours ago</a></span> <span id=\"unv_32123781\"></span> | <a href=\"hide?id=32123781&amp;goto=news\">hide</a> | <a href=\"item?id=32123781\">44&nbsp;comments</a>              </td></tr>\n",
      "      <tr class=\"spacer\" style=\"height:5px\"></tr>\n",
      "                <tr class='athing' id='32104592'>\n",
      "      <td align=\"right\" valign=\"top\" class=\"title\"><span class=\"rank\">11.</span></td>      <td valign=\"top\" class=\"votelinks\"><center><a id='up_32104592'href='vote?id=32104592&amp;how=up&amp;goto=news'><div class='votearrow' title='upvote'></div></a></center></td><td class=\"title\"><a href=\"https://kazimuth.github.io/blog/post/shake-and-pull-gently/\" class=\"titlelink\">The Algorithm for Hard Problems: Shake and Pull Gently</a><span class=\"sitebit comhead\"> (<a href=\"from?site=kazimuth.github.io\"><span class=\"sitestr\">kazimuth.github.io</span></a>)</span></td></tr><tr><td colspan=\"2\"></td><td class=\"subtext\">\n",
      "        <span class=\"score\" id=\"score_32104592\">98 points</span> by <a href=\"user?id=todsacerdoti\" class=\"hnuser\">todsacerdoti</a> <span class=\"age\" title=\"2022-07-15T04:24:20\"><a href=\"item?id=32104592\">8 hours ago</a></span> <span id=\"unv_32104592\"></span> | <a href=\"hide?id=32104592&amp;goto=news\">hide</a> | <a href=\"item?id=32104592\">8&nbsp;comments</a>              </td></tr>\n",
      "      <tr class=\"spacer\" style=\"height:5px\"></tr>\n",
      "                <tr class='athing' id='32125417'>\n",
      "      <td align=\"right\" valign=\"top\" class=\"title\"><span class=\"rank\">12.</span></td>      <td valign=\"top\" class=\"votelinks\"><center><a id='up_32125417'href='vote?id=32125417&amp;how=up&amp;goto=news'><div class='votearrow' title='upvote'></div></a></center></td><td class=\"title\"><a href=\"https://timharford.com/2022/07/the-high-price-we-pay-for-social-media/\" class=\"titlelink\">The high price we pay for social media</a><span class=\"sitebit comhead\"> (<a href=\"from?site=timharford.com\"><span class=\"sitestr\">timharford.com</span></a>)</span></td></tr><tr><td colspan=\"2\"></td><td class=\"subtext\">\n",
      "        <span class=\"score\" id=\"score_32125417\">99 points</span> by <a href=\"user?id=samizdis\" class=\"hnuser\">samizdis</a> <span class=\"age\" title=\"2022-07-17T08:54:56\"><a href=\"item?id=32125417\">6 hours ago</a></span> <span id=\"unv_32125417\"></span> | <a href=\"hide?id=32125417&amp;goto=news\">hide</a> | <a href=\"item?id=32125417\">104&nbsp;comments</a>              </td></tr>\n",
      "      <tr class=\"spacer\" style=\"height:5px\"></tr>\n",
      "                <tr class='athing' id='32125637'>\n",
      "      <td align=\"right\" valign=\"top\" class=\"title\"><span class=\"rank\">13.</span></td>      <td valign=\"top\" class=\"votelinks\"><center><a id='up_32125637'href='vote?id=32125637&amp;how=up&amp;goto=news'><div class='votearrow' title='upvote'></div></a></center></td><td class=\"title\"><a href=\"https://www.machinedesign.com/materials/article/21237685/power-on-a-flexible-dyesensitized-solar-cell-takes-charge\" class=\"titlelink\">Power On: A Flexible Dye-Sensitized Solar Cell Takes Charge</a><span class=\"sitebit comhead\"> (<a href=\"from?site=machinedesign.com\"><span class=\"sitestr\">machinedesign.com</span></a>)</span></td></tr><tr><td colspan=\"2\"></td><td class=\"subtext\">\n",
      "        <span class=\"score\" id=\"score_32125637\">22 points</span> by <a href=\"user?id=johlo\" class=\"hnuser\">johlo</a> <span class=\"age\" title=\"2022-07-17T10:14:43\"><a href=\"item?id=32125637\">4 hours ago</a></span> <span id=\"unv_32125637\"></span> | <a href=\"hide?id=32125637&amp;goto=news\">hide</a> | <a href=\"item?id=32125637\">1&nbsp;comment</a>              </td></tr>\n",
      "      <tr class=\"spacer\" style=\"height:5px\"></tr>\n",
      "                <tr class='athing' id='32104791'>\n",
      "      <td align=\"right\" valign=\"top\" class=\"title\"><span class=\"rank\">14.</span></td>      <td valign=\"top\" class=\"votelinks\"><center><a id='up_32104791'href='vote?id=32104791&amp;how=up&amp;goto=news'><div class='votearrow' title='upvote'></div></a></center></td><td class=\"title\"><a href=\"https://animationobsessive.substack.com/p/designing-the-characters-of-cowboy\" class=\"titlelink\">Designing the Characters of 'Cowboy Bebop'</a><span class=\"sitebit comhead\"> (<a href=\"from?site=animationobsessive.substack.com\"><span class=\"sitestr\">animationobsessive.substack.com</span></a>)</span></td></tr><tr><td colspan=\"2\"></td><td class=\"subtext\">\n",
      "        <span class=\"score\" id=\"score_32104791\">77 points</span> by <a href=\"user?id=zdw\" class=\"hnuser\">zdw</a> <span class=\"age\" title=\"2022-07-15T05:05:48\"><a href=\"item?id=32104791\">10 hours ago</a></span> <span id=\"unv_32104791\"></span> | <a href=\"hide?id=32104791&amp;goto=news\">hide</a> | <a href=\"item?id=32104791\">11&nbsp;comments</a>              </td></tr>\n",
      "      <tr class=\"spacer\" style=\"height:5px\"></tr>\n",
      "                <tr class='athing' id='32125933'>\n",
      "      <td align=\"right\" valign=\"top\" class=\"title\"><span class=\"rank\">15.</span></td>      <td valign=\"top\" class=\"votelinks\"><center><a id='up_32125933'href='vote?id=32125933&amp;how=up&amp;goto=news'><div class='votearrow' title='upvote'></div></a></center></td><td class=\"title\"><a href=\"https://brickexperimentchannel.wordpress.com/rc-submarine-4-0-blog-post-series/\" class=\"titlelink\">Building a radio-controlled submarine with automatic depth control</a><span class=\"sitebit comhead\"> (<a href=\"from?site=brickexperimentchannel.wordpress.com\"><span class=\"sitestr\">brickexperimentchannel.wordpress.com</span></a>)</span></td></tr><tr><td colspan=\"2\"></td><td class=\"subtext\">\n",
      "        <span class=\"score\" id=\"score_32125933\">14 points</span> by <a href=\"user?id=mik3y\" class=\"hnuser\">mik3y</a> <span class=\"age\" title=\"2022-07-17T11:32:59\"><a href=\"item?id=32125933\">3 hours ago</a></span> <span id=\"unv_32125933\"></span> | <a href=\"hide?id=32125933&amp;goto=news\">hide</a> | <a href=\"item?id=32125933\">1&nbsp;comment</a>              </td></tr>\n",
      "      <tr class=\"spacer\" style=\"height:5px\"></tr>\n",
      "                <tr class='athing' id='32120445'>\n",
      "      <td align=\"right\" valign=\"top\" class=\"title\"><span class=\"rank\">16.</span></td>      <td valign=\"top\" class=\"votelinks\"><center><a id='up_32120445'href='vote?id=32120445&amp;how=up&amp;goto=news'><div class='votearrow' title='upvote'></div></a></center></td><td class=\"title\"><a href=\"https://www.bryanbraun.com/2022/07/16/scratch-is-a-big-deal/\" class=\"titlelink\">Scratch is a big deal</a><span class=\"sitebit comhead\"> (<a href=\"from?site=bryanbraun.com\"><span class=\"sitestr\">bryanbraun.com</span></a>)</span></td></tr><tr><td colspan=\"2\"></td><td class=\"subtext\">\n",
      "        <span class=\"score\" id=\"score_32120445\">894 points</span> by <a href=\"user?id=bryanbraun\" class=\"hnuser\">bryanbraun</a> <span class=\"age\" title=\"2022-07-16T18:09:00\"><a href=\"item?id=32120445\">20 hours ago</a></span> <span id=\"unv_32120445\"></span> | <a href=\"hide?id=32120445&amp;goto=news\">hide</a> | <a href=\"item?id=32120445\">261&nbsp;comments</a>              </td></tr>\n",
      "      <tr class=\"spacer\" style=\"height:5px\"></tr>\n",
      "                <tr class='athing' id='32113221'>\n",
      "      <td align=\"right\" valign=\"top\" class=\"title\"><span class=\"rank\">17.</span></td>      <td valign=\"top\" class=\"votelinks\"><center><a id='up_32113221'href='vote?id=32113221&amp;how=up&amp;goto=news'><div class='votearrow' title='upvote'></div></a></center></td><td class=\"title\"><a href=\"https://blogs.bl.uk/digitisedmanuscripts/2022/07/african-kings.html\" class=\"titlelink\">African kings on medieval and Renaissance maps</a><span class=\"sitebit comhead\"> (<a href=\"from?site=blogs.bl.uk\"><span class=\"sitestr\">blogs.bl.uk</span></a>)</span></td></tr><tr><td colspan=\"2\"></td><td class=\"subtext\">\n",
      "        <span class=\"score\" id=\"score_32113221\">72 points</span> by <a href=\"user?id=benbreen\" class=\"hnuser\">benbreen</a> <span class=\"age\" title=\"2022-07-15T21:56:38\"><a href=\"item?id=32113221\">10 hours ago</a></span> <span id=\"unv_32113221\"></span> | <a href=\"hide?id=32113221&amp;goto=news\">hide</a> | <a href=\"item?id=32113221\">21&nbsp;comments</a>              </td></tr>\n",
      "      <tr class=\"spacer\" style=\"height:5px\"></tr>\n",
      "                <tr class='athing' id='32125859'>\n",
      "      <td align=\"right\" valign=\"top\" class=\"title\"><span class=\"rank\">18.</span></td>      <td valign=\"top\" class=\"votelinks\"><center><a id='up_32125859'href='vote?id=32125859&amp;how=up&amp;goto=news'><div class='votearrow' title='upvote'></div></a></center></td><td class=\"title\"><a href=\"http://blog.lambdaconcept.com/post/2021-05/fpga-mel-frequency-cepstrum/\" class=\"titlelink\">FPGA Mel-Frequency Cepstrum</a><span class=\"sitebit comhead\"> (<a href=\"from?site=lambdaconcept.com\"><span class=\"sitestr\">lambdaconcept.com</span></a>)</span></td></tr><tr><td colspan=\"2\"></td><td class=\"subtext\">\n",
      "        <span class=\"score\" id=\"score_32125859\">16 points</span> by <a href=\"user?id=todsacerdoti\" class=\"hnuser\">todsacerdoti</a> <span class=\"age\" title=\"2022-07-17T11:14:13\"><a href=\"item?id=32125859\">3 hours ago</a></span> <span id=\"unv_32125859\"></span> | <a href=\"hide?id=32125859&amp;goto=news\">hide</a> | <a href=\"item?id=32125859\">1&nbsp;comment</a>              </td></tr>\n",
      "      <tr class=\"spacer\" style=\"height:5px\"></tr>\n",
      "                <tr class='athing' id='32106546'>\n",
      "      <td align=\"right\" valign=\"top\" class=\"title\"><span class=\"rank\">19.</span></td>      <td valign=\"top\" class=\"votelinks\"><center><a id='up_32106546'href='vote?id=32106546&amp;how=up&amp;goto=news'><div class='votearrow' title='upvote'></div></a></center></td><td class=\"title\"><a href=\"https://semiengineering.com/can-analog-make-a-comeback/\" class=\"titlelink\">Can Analog Make a Comeback?</a><span class=\"sitebit comhead\"> (<a href=\"from?site=semiengineering.com\"><span class=\"sitestr\">semiengineering.com</span></a>)</span></td></tr><tr><td colspan=\"2\"></td><td class=\"subtext\">\n",
      "        <span class=\"score\" id=\"score_32106546\">95 points</span> by <a href=\"user?id=rbanffy\" class=\"hnuser\">rbanffy</a> <span class=\"age\" title=\"2022-07-15T10:10:59\"><a href=\"item?id=32106546\">9 hours ago</a></span> <span id=\"unv_32106546\"></span> | <a href=\"hide?id=32106546&amp;goto=news\">hide</a> | <a href=\"item?id=32106546\">93&nbsp;comments</a>              </td></tr>\n",
      "      <tr class=\"spacer\" style=\"height:5px\"></tr>\n",
      "                <tr class='athing' id='32124621'>\n",
      "      <td align=\"right\" valign=\"top\" class=\"title\"><span class=\"rank\">20.</span></td>      <td valign=\"top\" class=\"votelinks\"><center><a id='up_32124621'href='vote?id=32124621&amp;how=up&amp;goto=news'><div class='votearrow' title='upvote'></div></a></center></td><td class=\"title\"><a href=\"http://evincarofautumn.blogspot.com/2012/02/why-concatenative-programming-matters.html\" class=\"titlelink\">Why Concatenative Programming Matters</a><span class=\"sitebit comhead\"> (<a href=\"from?site=evincarofautumn.blogspot.com\"><span class=\"sitestr\">evincarofautumn.blogspot.com</span></a>)</span></td></tr><tr><td colspan=\"2\"></td><td class=\"subtext\">\n",
      "        <span class=\"score\" id=\"score_32124621\">55 points</span> by <a href=\"user?id=codewithcheese\" class=\"hnuser\">codewithcheese</a> <span class=\"age\" title=\"2022-07-17T05:06:14\"><a href=\"item?id=32124621\">9 hours ago</a></span> <span id=\"unv_32124621\"></span> | <a href=\"hide?id=32124621&amp;goto=news\">hide</a> | <a href=\"item?id=32124621\">25&nbsp;comments</a>              </td></tr>\n",
      "      <tr class=\"spacer\" style=\"height:5px\"></tr>\n",
      "                <tr class='athing' id='32125019'>\n",
      "      <td align=\"right\" valign=\"top\" class=\"title\"><span class=\"rank\">21.</span></td>      <td></td><td class=\"title\"><a href=\"https://apply.workable.com/stackerhq/j/7AA9A3E3E9/\" class=\"titlelink\" rel=\"nofollow\">Stacker (YC S20) Is Hiring a Senior Data Analyst</a><span class=\"sitebit comhead\"> (<a href=\"from?site=workable.com\"><span class=\"sitestr\">workable.com</span></a>)</span></td></tr><tr><td colspan=\"2\"></td><td class=\"subtext\">\n",
      "        <span class=\"age\" title=\"2022-07-17T07:02:03\"><a href=\"item?id=32125019\">8 hours ago</a></span> | <a href=\"hide?id=32125019&amp;goto=news\">hide</a>      </td></tr>\n",
      "      <tr class=\"spacer\" style=\"height:5px\"></tr>\n",
      "                <tr class='athing' id='32114760'>\n",
      "      <td align=\"right\" valign=\"top\" class=\"title\"><span class=\"rank\">22.</span></td>      <td valign=\"top\" class=\"votelinks\"><center><a id='up_32114760'href='vote?id=32114760&amp;how=up&amp;goto=news'><div class='votearrow' title='upvote'></div></a></center></td><td class=\"title\"><a href=\"https://hackaday.com/2022/07/14/visual-cryptography-for-physical-keyrings/\" class=\"titlelink\">Visual cryptography for physical keyrings</a><span class=\"sitebit comhead\"> (<a href=\"from?site=hackaday.com\"><span class=\"sitestr\">hackaday.com</span></a>)</span></td></tr><tr><td colspan=\"2\"></td><td class=\"subtext\">\n",
      "        <span class=\"score\" id=\"score_32114760\">26 points</span> by <a href=\"user?id=prostoalex\" class=\"hnuser\">prostoalex</a> <span class=\"age\" title=\"2022-07-16T02:27:05\"><a href=\"item?id=32114760\">7 hours ago</a></span> <span id=\"unv_32114760\"></span> | <a href=\"hide?id=32114760&amp;goto=news\">hide</a> | <a href=\"item?id=32114760\">4&nbsp;comments</a>              </td></tr>\n",
      "      <tr class=\"spacer\" style=\"height:5px\"></tr>\n",
      "                <tr class='athing' id='32126563'>\n",
      "      <td align=\"right\" valign=\"top\" class=\"title\"><span class=\"rank\">23.</span></td>      <td valign=\"top\" class=\"votelinks\"><center><a id='up_32126563'href='vote?id=32126563&amp;how=up&amp;goto=news'><div class='votearrow' title='upvote'></div></a></center></td><td class=\"title\"><a href=\"item?id=32126563\" class=\"titlelink\">Ask HN: One team lead always builds a monoethnic team. What to do?</a></td></tr><tr><td colspan=\"2\"></td><td class=\"subtext\">\n",
      "        <span class=\"score\" id=\"score_32126563\">7 points</span> by <a href=\"user?id=mathverse\" class=\"hnuser\">mathverse</a> <span class=\"age\" title=\"2022-07-17T13:25:22\"><a href=\"item?id=32126563\">1 hour ago</a></span> <span id=\"unv_32126563\"></span> | <a href=\"hide?id=32126563&amp;goto=news\">hide</a> | <a href=\"item?id=32126563\">1&nbsp;comment</a>              </td></tr>\n",
      "      <tr class=\"spacer\" style=\"height:5px\"></tr>\n",
      "                <tr class='athing' id='32126053'>\n",
      "      <td align=\"right\" valign=\"top\" class=\"title\"><span class=\"rank\">24.</span></td>      <td valign=\"top\" class=\"votelinks\"><center><a id='up_32126053'href='vote?id=32126053&amp;how=up&amp;goto=news'><div class='votearrow' title='upvote'></div></a></center></td><td class=\"title\"><a href=\"https://www.newscientist.com/article/2328724-woodpeckers-dont-have-built-in-shock-absorbers-to-protect-their-brain/\" class=\"titlelink\">Woodpeckers don't have built-in shock absorbers to protect their brain</a><span class=\"sitebit comhead\"> (<a href=\"from?site=newscientist.com\"><span class=\"sitestr\">newscientist.com</span></a>)</span></td></tr><tr><td colspan=\"2\"></td><td class=\"subtext\">\n",
      "        <span class=\"score\" id=\"score_32126053\">34 points</span> by <a href=\"user?id=lota-putty\" class=\"hnuser\">lota-putty</a> <span class=\"age\" title=\"2022-07-17T11:59:17\"><a href=\"item?id=32126053\">3 hours ago</a></span> <span id=\"unv_32126053\"></span> | <a href=\"hide?id=32126053&amp;goto=news\">hide</a> | <a href=\"item?id=32126053\">16&nbsp;comments</a>              </td></tr>\n",
      "      <tr class=\"spacer\" style=\"height:5px\"></tr>\n",
      "                <tr class='athing' id='32123655'>\n",
      "      <td align=\"right\" valign=\"top\" class=\"title\"><span class=\"rank\">25.</span></td>      <td valign=\"top\" class=\"votelinks\"><center><a id='up_32123655'href='vote?id=32123655&amp;how=up&amp;goto=news'><div class='votearrow' title='upvote'></div></a></center></td><td class=\"title\"><a href=\"https://failedarchitecture.com/the-hidden-history-of-tehrans-red-light-district/\" class=\"titlelink\">Tehran’s Red-Light District</a><span class=\"sitebit comhead\"> (<a href=\"from?site=failedarchitecture.com\"><span class=\"sitestr\">failedarchitecture.com</span></a>)</span></td></tr><tr><td colspan=\"2\"></td><td class=\"subtext\">\n",
      "        <span class=\"score\" id=\"score_32123655\">63 points</span> by <a href=\"user?id=SirLJ\" class=\"hnuser\">SirLJ</a> <span class=\"age\" title=\"2022-07-17T01:43:21\"><a href=\"item?id=32123655\">13 hours ago</a></span> <span id=\"unv_32123655\"></span> | <a href=\"hide?id=32123655&amp;goto=news\">hide</a> | <a href=\"item?id=32123655\">55&nbsp;comments</a>              </td></tr>\n",
      "      <tr class=\"spacer\" style=\"height:5px\"></tr>\n",
      "                <tr class='athing' id='32124784'>\n",
      "      <td align=\"right\" valign=\"top\" class=\"title\"><span class=\"rank\">26.</span></td>      <td valign=\"top\" class=\"votelinks\"><center><a id='up_32124784'href='vote?id=32124784&amp;how=up&amp;goto=news'><div class='votearrow' title='upvote'></div></a></center></td><td class=\"title\"><a href=\"http://windowsir.blogspot.com/2022/07/does-autostart-really-mean-autostart.html\" class=\"titlelink\">Does “Autostart” Mean “Autostart”?</a><span class=\"sitebit comhead\"> (<a href=\"from?site=windowsir.blogspot.com\"><span class=\"sitestr\">windowsir.blogspot.com</span></a>)</span></td></tr><tr><td colspan=\"2\"></td><td class=\"subtext\">\n",
      "        <span class=\"score\" id=\"score_32124784\">38 points</span> by <a href=\"user?id=solarist\" class=\"hnuser\">solarist</a> <span class=\"age\" title=\"2022-07-17T05:50:46\"><a href=\"item?id=32124784\">9 hours ago</a></span> <span id=\"unv_32124784\"></span> | <a href=\"hide?id=32124784&amp;goto=news\">hide</a> | <a href=\"item?id=32124784\">5&nbsp;comments</a>              </td></tr>\n",
      "      <tr class=\"spacer\" style=\"height:5px\"></tr>\n",
      "                <tr class='athing' id='32123309'>\n",
      "      <td align=\"right\" valign=\"top\" class=\"title\"><span class=\"rank\">27.</span></td>      <td valign=\"top\" class=\"votelinks\"><center><a id='up_32123309'href='vote?id=32123309&amp;how=up&amp;goto=news'><div class='votearrow' title='upvote'></div></a></center></td><td class=\"title\"><a href=\"http://chebucto.ns.ca/~ak621/DOS/DOS-Head.html\" class=\"titlelink\">Dr. DOS Betamax's DOS Fansite</a><span class=\"sitebit comhead\"> (<a href=\"from?site=chebucto.ns.ca\"><span class=\"sitestr\">chebucto.ns.ca</span></a>)</span></td></tr><tr><td colspan=\"2\"></td><td class=\"subtext\">\n",
      "        <span class=\"score\" id=\"score_32123309\">58 points</span> by <a href=\"user?id=ttgurney\" class=\"hnuser\">ttgurney</a> <span class=\"age\" title=\"2022-07-17T00:42:33\"><a href=\"item?id=32123309\">14 hours ago</a></span> <span id=\"unv_32123309\"></span> | <a href=\"hide?id=32123309&amp;goto=news\">hide</a> | <a href=\"item?id=32123309\">52&nbsp;comments</a>              </td></tr>\n",
      "      <tr class=\"spacer\" style=\"height:5px\"></tr>\n",
      "                <tr class='athing' id='32111909'>\n",
      "      <td align=\"right\" valign=\"top\" class=\"title\"><span class=\"rank\">28.</span></td>      <td valign=\"top\" class=\"votelinks\"><center><a id='up_32111909'href='vote?id=32111909&amp;how=up&amp;goto=news'><div class='votearrow' title='upvote'></div></a></center></td><td class=\"title\"><a href=\"https://www.thenation.com/article/culture/fernando-pessoa-biography/\" class=\"titlelink\">The Literary Games of Fernando Pessoa</a><span class=\"sitebit comhead\"> (<a href=\"from?site=thenation.com\"><span class=\"sitestr\">thenation.com</span></a>)</span></td></tr><tr><td colspan=\"2\"></td><td class=\"subtext\">\n",
      "        <span class=\"score\" id=\"score_32111909\">44 points</span> by <a href=\"user?id=Caiero\" class=\"hnuser\">Caiero</a> <span class=\"age\" title=\"2022-07-15T19:34:41\"><a href=\"item?id=32111909\">12 hours ago</a></span> <span id=\"unv_32111909\"></span> | <a href=\"hide?id=32111909&amp;goto=news\">hide</a> | <a href=\"item?id=32111909\">6&nbsp;comments</a>              </td></tr>\n",
      "      <tr class=\"spacer\" style=\"height:5px\"></tr>\n",
      "                <tr class='athing' id='32124809'>\n",
      "      <td align=\"right\" valign=\"top\" class=\"title\"><span class=\"rank\">29.</span></td>      <td valign=\"top\" class=\"votelinks\"><center><a id='up_32124809'href='vote?id=32124809&amp;how=up&amp;goto=news'><div class='votearrow' title='upvote'></div></a></center></td><td class=\"title\"><a href=\"item?id=32124809\" class=\"titlelink\">Ask HN: How to deal with children's online habits?</a></td></tr><tr><td colspan=\"2\"></td><td class=\"subtext\">\n",
      "        <span class=\"score\" id=\"score_32124809\">92 points</span> by <a href=\"user?id=kqr\" class=\"hnuser\">kqr</a> <span class=\"age\" title=\"2022-07-17T05:57:49\"><a href=\"item?id=32124809\">9 hours ago</a></span> <span id=\"unv_32124809\"></span> | <a href=\"hide?id=32124809&amp;goto=news\">hide</a> | <a href=\"item?id=32124809\">65&nbsp;comments</a>              </td></tr>\n",
      "      <tr class=\"spacer\" style=\"height:5px\"></tr>\n",
      "                <tr class='athing' id='32126919'>\n",
      "      <td align=\"right\" valign=\"top\" class=\"title\"><span class=\"rank\">30.</span></td>      <td valign=\"top\" class=\"votelinks\"><center><a id='up_32126919'href='vote?id=32126919&amp;how=up&amp;goto=news'><div class='votearrow' title='upvote'></div></a></center></td><td class=\"title\"><a href=\"https://twitter.com/amir/status/1548345203504795654\" class=\"titlelink\" rel=\"nofollow\">DataRobot employee resigns over stock sales</a><span class=\"sitebit comhead\"> (<a href=\"from?site=twitter.com/amir\"><span class=\"sitestr\">twitter.com/amir</span></a>)</span></td></tr><tr><td colspan=\"2\"></td><td class=\"subtext\">\n",
      "        <span class=\"score\" id=\"score_32126919\">7 points</span> by <a href=\"user?id=Ozzie_osman\" class=\"hnuser\">Ozzie_osman</a> <span class=\"age\" title=\"2022-07-17T14:12:25\"><a href=\"item?id=32126919\">50 minutes ago</a></span> <span id=\"unv_32126919\"></span> | <a href=\"hide?id=32126919&amp;goto=news\">hide</a> | <a href=\"item?id=32126919\">discuss</a>              </td></tr>\n",
      "      <tr class=\"spacer\" style=\"height:5px\"></tr>\n",
      "            <tr class=\"morespace\" style=\"height:10px\"></tr><tr><td colspan=\"2\"></td>\n",
      "      <td class='title'><a href='news?p=2' class='morelink' rel='next'>More</a></td>    </tr>\n",
      "  </table>\n",
      "</td></tr>\n",
      "<tr><td><img src=\"s.gif\" height=\"10\" width=\"0\"><table width=\"100%\" cellspacing=\"0\" cellpadding=\"1\"><tr><td bgcolor=\"#ff6600\"></td></tr></table><br><center><span class=\"yclinks\"><a href=\"newsguidelines.html\">Guidelines</a>\n",
      "        | <a href=\"newsfaq.html\">FAQ</a>\n",
      "        | <a href=\"lists\">Lists</a>\n",
      "        | <a href=\"https://github.com/HackerNews/API\">API</a>\n",
      "        | <a href=\"security.html\">Security</a>\n",
      "        | <a href=\"http://www.ycombinator.com/legal/\">Legal</a>\n",
      "        | <a href=\"http://www.ycombinator.com/apply/\">Apply to YC</a>\n",
      "        | <a href=\"mailto:hn@ycombinator.com\">Contact</a></span><br><br><form method=\"get\" action=\"//hn.algolia.com/\">Search:\n",
      "          <input type=\"text\" name=\"q\" value=\"\" size=\"17\" autocorrect=\"off\" spellcheck=\"false\" autocapitalize=\"off\" autocomplete=\"false\"></form>\n",
      "            </center></td></tr>\n",
      "      </table></center></body>\n",
      "      <script type='text/javascript' src='hn.js?1Bm8NbeTnrHgXtEskWTh'></script>\n",
      "  </html>\n",
      "\n"
     ]
    }
   ],
   "source": [
    "import requests\n",
    "\n",
    "# Fetch a web page\n",
    "r = requests.get(\"https://news.ycombinator.com\")\n",
    "print(r.text)"
   ]
  },
  {
   "cell_type": "code",
   "execution_count": 7,
   "metadata": {},
   "outputs": [
    {
     "name": "stdout",
     "output_type": "stream",
     "text": [
      "\n",
      "        \n",
      "          \n",
      "        Hacker News\n",
      "        \n",
      "                  Hacker News\n",
      "                            new | past | comments | ask | show | jobs | submit            \n",
      "                              login\n",
      "                          \n",
      "              \n",
      "\n",
      "              \n",
      "      1.      The New Numbers on Music Consumption Are Ugly (tedgioia.substack.com)\n",
      "        99 points by jseliger 1 hour ago  | hide | 105&nbsp;comments              \n",
      "      \n",
      "                \n",
      "      2.      I've started using Mozilla Firefox and now I can never go back to Google Chrome (techradar.com)\n",
      "        218 points by p4bl0 1 hour ago  | hide | 104&nbsp;comments              \n",
      "      \n",
      "                \n",
      "      3.      A systems model of anxiety-driven procrastination (axle.design)\n",
      "        132 points by CiceroCiceronis 4 hours ago  | hide | 46&nbsp;comments              \n",
      "      \n",
      "                \n",
      "      4.      Bayes Rules – An Introduction to Applied Bayesian Modeling (2021) (bayesrulesbook.com)\n",
      "        62 points by RafelMri 3 hours ago  | hide | 9&nbsp;comments              \n",
      "      \n",
      "                \n",
      "      5.      Killbutmakeitlooklikeanaccident.sh (gist.github.com)\n",
      "        226 points by app4soft 3 hours ago  | hide | 101&nbsp;comments              \n",
      "      \n",
      "                \n",
      "      6.      Pleasant Debugging with GDB and DDD (begriffs.com)\n",
      "        26 points by signa11 3 hours ago  | hide | 2&nbsp;comments              \n",
      "      \n",
      "                \n",
      "      7.      Okay, Google: To protect women, collect less data about everyone (washingtonpost.com)\n",
      "        127 points by johndfsgdgdfg 4 hours ago  | hide | 106&nbsp;comments              \n",
      "      \n",
      "                \n",
      "      8.      An interactive mechanical contraption in pure CSS (cohost.org)\n",
      "        233 points by zdw 12 hours ago  | hide | 49&nbsp;comments              \n",
      "      \n",
      "                \n",
      "      9.      Integer Math in JavaScript (darpinian.com)\n",
      "        11 points by simonebrunozzi 2 hours ago  | hide | 5&nbsp;comments              \n",
      "      \n",
      "                \n",
      "      10.      I just finished reading a book and took lots of notes. Now what? (bobdoto.computer)\n",
      "        157 points by memorable 12 hours ago  | hide | 44&nbsp;comments              \n",
      "      \n",
      "                \n",
      "      11.      The Algorithm for Hard Problems: Shake and Pull Gently (kazimuth.github.io)\n",
      "        98 points by todsacerdoti 8 hours ago  | hide | 8&nbsp;comments              \n",
      "      \n",
      "                \n",
      "      12.      The high price we pay for social media (timharford.com)\n",
      "        99 points by samizdis 6 hours ago  | hide | 104&nbsp;comments              \n",
      "      \n",
      "                \n",
      "      13.      Power On: A Flexible Dye-Sensitized Solar Cell Takes Charge (machinedesign.com)\n",
      "        22 points by johlo 4 hours ago  | hide | 1&nbsp;comment              \n",
      "      \n",
      "                \n",
      "      14.      Designing the Characters of 'Cowboy Bebop' (animationobsessive.substack.com)\n",
      "        77 points by zdw 10 hours ago  | hide | 11&nbsp;comments              \n",
      "      \n",
      "                \n",
      "      15.      Building a radio-controlled submarine with automatic depth control (brickexperimentchannel.wordpress.com)\n",
      "        14 points by mik3y 3 hours ago  | hide | 1&nbsp;comment              \n",
      "      \n",
      "                \n",
      "      16.      Scratch is a big deal (bryanbraun.com)\n",
      "        894 points by bryanbraun 20 hours ago  | hide | 261&nbsp;comments              \n",
      "      \n",
      "                \n",
      "      17.      African kings on medieval and Renaissance maps (blogs.bl.uk)\n",
      "        72 points by benbreen 10 hours ago  | hide | 21&nbsp;comments              \n",
      "      \n",
      "                \n",
      "      18.      FPGA Mel-Frequency Cepstrum (lambdaconcept.com)\n",
      "        16 points by todsacerdoti 3 hours ago  | hide | 1&nbsp;comment              \n",
      "      \n",
      "                \n",
      "      19.      Can Analog Make a Comeback? (semiengineering.com)\n",
      "        95 points by rbanffy 9 hours ago  | hide | 93&nbsp;comments              \n",
      "      \n",
      "                \n",
      "      20.      Why Concatenative Programming Matters (evincarofautumn.blogspot.com)\n",
      "        55 points by codewithcheese 9 hours ago  | hide | 25&nbsp;comments              \n",
      "      \n",
      "                \n",
      "      21.      Stacker (YC S20) Is Hiring a Senior Data Analyst (workable.com)\n",
      "        8 hours ago | hide      \n",
      "      \n",
      "                \n",
      "      22.      Visual cryptography for physical keyrings (hackaday.com)\n",
      "        26 points by prostoalex 7 hours ago  | hide | 4&nbsp;comments              \n",
      "      \n",
      "                \n",
      "      23.      Ask HN: One team lead always builds a monoethnic team. What to do?\n",
      "        7 points by mathverse 1 hour ago  | hide | 1&nbsp;comment              \n",
      "      \n",
      "                \n",
      "      24.      Woodpeckers don't have built-in shock absorbers to protect their brain (newscientist.com)\n",
      "        34 points by lota-putty 3 hours ago  | hide | 16&nbsp;comments              \n",
      "      \n",
      "                \n",
      "      25.      Tehran’s Red-Light District (failedarchitecture.com)\n",
      "        63 points by SirLJ 13 hours ago  | hide | 55&nbsp;comments              \n",
      "      \n",
      "                \n",
      "      26.      Does “Autostart” Mean “Autostart”? (windowsir.blogspot.com)\n",
      "        38 points by solarist 9 hours ago  | hide | 5&nbsp;comments              \n",
      "      \n",
      "                \n",
      "      27.      Dr. DOS Betamax's DOS Fansite (chebucto.ns.ca)\n",
      "        58 points by ttgurney 14 hours ago  | hide | 52&nbsp;comments              \n",
      "      \n",
      "                \n",
      "      28.      The Literary Games of Fernando Pessoa (thenation.com)\n",
      "        44 points by Caiero 12 hours ago  | hide | 6&nbsp;comments              \n",
      "      \n",
      "                \n",
      "      29.      Ask HN: How to deal with children's online habits?\n",
      "        92 points by kqr 9 hours ago  | hide | 65&nbsp;comments              \n",
      "      \n",
      "                \n",
      "      30.      DataRobot employee resigns over stock sales (twitter.com/amir)\n",
      "        7 points by Ozzie_osman 50 minutes ago  | hide | discuss              \n",
      "      \n",
      "            \n",
      "      More    \n",
      "  \n",
      "\n",
      "Guidelines\n",
      "        | FAQ\n",
      "        | Lists\n",
      "        | API\n",
      "        | Security\n",
      "        | Legal\n",
      "        | Apply to YC\n",
      "        | ContactSearch:\n",
      "          \n",
      "            \n",
      "      \n",
      "      \n",
      "  \n",
      "\n"
     ]
    }
   ],
   "source": [
    "import re\n",
    "\n",
    "# Remove HTML tags using RegEx\n",
    "pattern = re.compile(r'<.*?>')  # tags look like <...>\n",
    "print(pattern.sub('', r.text))  # replace them with blank"
   ]
  },
  {
   "cell_type": "code",
   "execution_count": 8,
   "metadata": {},
   "outputs": [
    {
     "name": "stdout",
     "output_type": "stream",
     "text": [
      "\n",
      "        \n",
      "          \n",
      "        Hacker News\n",
      "        \n",
      "                  Hacker News\n",
      "                            new | past | comments | ask | show | jobs | submit            \n",
      "                              login\n",
      "                          \n",
      "              \n",
      "\n",
      "              \n",
      "      1.      The New Numbers on Music Consumption Are Ugly (tedgioia.substack.com)\n",
      "        99 points by jseliger 1 hour ago  | hide | 105 comments              \n",
      "      \n",
      "                \n",
      "      2.      I've started using Mozilla Firefox and now I can never go back to Google Chrome (techradar.com)\n",
      "        218 points by p4bl0 1 hour ago  | hide | 104 comments              \n",
      "      \n",
      "                \n",
      "      3.      A systems model of anxiety-driven procrastination (axle.design)\n",
      "        132 points by CiceroCiceronis 4 hours ago  | hide | 46 comments              \n",
      "      \n",
      "                \n",
      "      4.      Bayes Rules – An Introduction to Applied Bayesian Modeling (2021) (bayesrulesbook.com)\n",
      "        62 points by RafelMri 3 hours ago  | hide | 9 comments              \n",
      "      \n",
      "                \n",
      "      5.      Killbutmakeitlooklikeanaccident.sh (gist.github.com)\n",
      "        226 points by app4soft 3 hours ago  | hide | 101 comments              \n",
      "      \n",
      "                \n",
      "      6.      Pleasant Debugging with GDB and DDD (begriffs.com)\n",
      "        26 points by signa11 3 hours ago  | hide | 2 comments              \n",
      "      \n",
      "                \n",
      "      7.      Okay, Google: To protect women, collect less data about everyone (washingtonpost.com)\n",
      "        127 points by johndfsgdgdfg 4 hours ago  | hide | 106 comments              \n",
      "      \n",
      "                \n",
      "      8.      An interactive mechanical contraption in pure CSS (cohost.org)\n",
      "        233 points by zdw 12 hours ago  | hide | 49 comments              \n",
      "      \n",
      "                \n",
      "      9.      Integer Math in JavaScript (darpinian.com)\n",
      "        11 points by simonebrunozzi 2 hours ago  | hide | 5 comments              \n",
      "      \n",
      "                \n",
      "      10.      I just finished reading a book and took lots of notes. Now what? (bobdoto.computer)\n",
      "        157 points by memorable 12 hours ago  | hide | 44 comments              \n",
      "      \n",
      "                \n",
      "      11.      The Algorithm for Hard Problems: Shake and Pull Gently (kazimuth.github.io)\n",
      "        98 points by todsacerdoti 8 hours ago  | hide | 8 comments              \n",
      "      \n",
      "                \n",
      "      12.      The high price we pay for social media (timharford.com)\n",
      "        99 points by samizdis 6 hours ago  | hide | 104 comments              \n",
      "      \n",
      "                \n",
      "      13.      Power On: A Flexible Dye-Sensitized Solar Cell Takes Charge (machinedesign.com)\n",
      "        22 points by johlo 4 hours ago  | hide | 1 comment              \n",
      "      \n",
      "                \n",
      "      14.      Designing the Characters of 'Cowboy Bebop' (animationobsessive.substack.com)\n",
      "        77 points by zdw 10 hours ago  | hide | 11 comments              \n",
      "      \n",
      "                \n",
      "      15.      Building a radio-controlled submarine with automatic depth control (brickexperimentchannel.wordpress.com)\n",
      "        14 points by mik3y 3 hours ago  | hide | 1 comment              \n",
      "      \n",
      "                \n",
      "      16.      Scratch is a big deal (bryanbraun.com)\n",
      "        894 points by bryanbraun 20 hours ago  | hide | 261 comments              \n",
      "      \n",
      "                \n",
      "      17.      African kings on medieval and Renaissance maps (blogs.bl.uk)\n",
      "        72 points by benbreen 10 hours ago  | hide | 21 comments              \n",
      "      \n",
      "                \n",
      "      18.      FPGA Mel-Frequency Cepstrum (lambdaconcept.com)\n",
      "        16 points by todsacerdoti 3 hours ago  | hide | 1 comment              \n",
      "      \n",
      "                \n",
      "      19.      Can Analog Make a Comeback? (semiengineering.com)\n",
      "        95 points by rbanffy 9 hours ago  | hide | 93 comments              \n",
      "      \n",
      "                \n",
      "      20.      Why Concatenative Programming Matters (evincarofautumn.blogspot.com)\n",
      "        55 points by codewithcheese 9 hours ago  | hide | 25 comments              \n",
      "      \n",
      "                \n",
      "      21.      Stacker (YC S20) Is Hiring a Senior Data Analyst (workable.com)\n",
      "        8 hours ago | hide      \n",
      "      \n",
      "                \n",
      "      22.      Visual cryptography for physical keyrings (hackaday.com)\n",
      "        26 points by prostoalex 7 hours ago  | hide | 4 comments              \n",
      "      \n",
      "                \n",
      "      23.      Ask HN: One team lead always builds a monoethnic team. What to do?\n",
      "        7 points by mathverse 1 hour ago  | hide | 1 comment              \n",
      "      \n",
      "                \n",
      "      24.      Woodpeckers don't have built-in shock absorbers to protect their brain (newscientist.com)\n",
      "        34 points by lota-putty 3 hours ago  | hide | 16 comments              \n",
      "      \n",
      "                \n",
      "      25.      Tehran’s Red-Light District (failedarchitecture.com)\n",
      "        63 points by SirLJ 13 hours ago  | hide | 55 comments              \n",
      "      \n",
      "                \n",
      "      26.      Does “Autostart” Mean “Autostart”? (windowsir.blogspot.com)\n",
      "        38 points by solarist 9 hours ago  | hide | 5 comments              \n",
      "      \n",
      "                \n",
      "      27.      Dr. DOS Betamax's DOS Fansite (chebucto.ns.ca)\n",
      "        58 points by ttgurney 14 hours ago  | hide | 52 comments              \n",
      "      \n",
      "                \n",
      "      28.      The Literary Games of Fernando Pessoa (thenation.com)\n",
      "        44 points by Caiero 12 hours ago  | hide | 6 comments              \n",
      "      \n",
      "                \n",
      "      29.      Ask HN: How to deal with children's online habits?\n",
      "        92 points by kqr 9 hours ago  | hide | 65 comments              \n",
      "      \n",
      "                \n",
      "      30.      DataRobot employee resigns over stock sales (twitter.com/amir)\n",
      "        7 points by Ozzie_osman 50 minutes ago  | hide | discuss              \n",
      "      \n",
      "            \n",
      "      More    \n",
      "  \n",
      "\n",
      "Guidelines\n",
      "        | FAQ\n",
      "        | Lists\n",
      "        | API\n",
      "        | Security\n",
      "        | Legal\n",
      "        | Apply to YC\n",
      "        | ContactSearch:\n",
      "          \n",
      "            \n",
      "      \n",
      "      \n",
      "  \n",
      "\n"
     ]
    }
   ],
   "source": [
    "from bs4 import BeautifulSoup\n",
    "\n",
    "# Remove HTML tags using Beautiful Soup library\n",
    "soup = BeautifulSoup(r.text, \"html5lib\")\n",
    "print(soup.get_text())"
   ]
  },
  {
   "cell_type": "code",
   "execution_count": 9,
   "metadata": {
    "scrolled": true
   },
   "outputs": [
    {
     "data": {
      "text/plain": [
       "<tr class=\"athing\" id=\"32126537\">\n",
       "      <td align=\"right\" class=\"title\" valign=\"top\"><span class=\"rank\">1.</span></td>      <td class=\"votelinks\" valign=\"top\"><center><a href=\"vote?id=32126537&amp;how=up&amp;goto=news\" id=\"up_32126537\"><div class=\"votearrow\" title=\"upvote\"></div></a></center></td><td class=\"title\"><a class=\"titlelink\" href=\"https://tedgioia.substack.com/p/the-new-numbers-on-music-consumption\">The New Numbers on Music Consumption Are Ugly</a><span class=\"sitebit comhead\"> (<a href=\"from?site=tedgioia.substack.com\"><span class=\"sitestr\">tedgioia.substack.com</span></a>)</span></td></tr>"
      ]
     },
     "execution_count": 9,
     "metadata": {},
     "output_type": "execute_result"
    }
   ],
   "source": [
    "# Find all articles\n",
    "summaries = soup.find_all(\"tr\", class_=\"athing\")\n",
    "summaries[0]"
   ]
  },
  {
   "cell_type": "code",
   "execution_count": 10,
   "metadata": {},
   "outputs": [
    {
     "data": {
      "text/plain": [
       "'The New Numbers on Music Consumption Are Ugly'"
      ]
     },
     "execution_count": 10,
     "metadata": {},
     "output_type": "execute_result"
    }
   ],
   "source": [
    "# Extract title\n",
    "summaries[0].find(\"a\", class_=\"titlelink\").get_text().strip()"
   ]
  },
  {
   "cell_type": "code",
   "execution_count": 11,
   "metadata": {},
   "outputs": [
    {
     "name": "stdout",
     "output_type": "stream",
     "text": [
      "30 Article summaries found. Sample:\n",
      "The New Numbers on Music Consumption Are Ugly\n"
     ]
    }
   ],
   "source": [
    "# Find all articles, extract titles\n",
    "articles = []\n",
    "summaries = soup.find_all(\"tr\", class_=\"athing\")\n",
    "for summary in summaries:\n",
    "    title = summary.find(\"a\", class_=\"titlelink\").get_text().strip()\n",
    "    articles.append((title))\n",
    "\n",
    "print(len(articles), \"Article summaries found. Sample:\")\n",
    "print(articles[0])"
   ]
  },
  {
   "cell_type": "markdown",
   "metadata": {
    "collapsed": true
   },
   "source": [
    "## Normalization"
   ]
  },
  {
   "cell_type": "markdown",
   "metadata": {},
   "source": [
    "### Case Normalization"
   ]
  },
  {
   "cell_type": "code",
   "execution_count": 12,
   "metadata": {},
   "outputs": [
    {
     "name": "stdout",
     "output_type": "stream",
     "text": [
      "The first time you see The Second Renaissance it may look boring. Look at it at least twice and definitely watch part 2. It will change your view of the matrix. Are the human people the ones who started the war ? Is AI a bad thing ?\n"
     ]
    }
   ],
   "source": [
    "# Sample text\n",
    "text = \"The first time you see The Second Renaissance it may look boring. Look at it at least twice and definitely watch part 2. It will change your view of the matrix. Are the human people the ones who started the war ? Is AI a bad thing ?\"\n",
    "print(text)"
   ]
  },
  {
   "cell_type": "code",
   "execution_count": 13,
   "metadata": {},
   "outputs": [
    {
     "name": "stdout",
     "output_type": "stream",
     "text": [
      "the first time you see the second renaissance it may look boring. look at it at least twice and definitely watch part 2. it will change your view of the matrix. are the human people the ones who started the war ? is ai a bad thing ?\n"
     ]
    }
   ],
   "source": [
    "# Convert to lowercase\n",
    "text = text.lower() \n",
    "print(text)"
   ]
  },
  {
   "cell_type": "markdown",
   "metadata": {},
   "source": [
    "### Punctuation Removal"
   ]
  },
  {
   "cell_type": "code",
   "execution_count": 14,
   "metadata": {},
   "outputs": [
    {
     "name": "stdout",
     "output_type": "stream",
     "text": [
      "the first time you see the second renaissance it may look boring  look at it at least twice and definitely watch part 2  it will change your view of the matrix  are the human people the ones who started the war   is ai a bad thing  \n"
     ]
    }
   ],
   "source": [
    "import re\n",
    "\n",
    "# Remove punctuation characters\n",
    "text = re.sub(r\"[^a-zA-Z0-9]\", \" \", text) \n",
    "print(text)"
   ]
  },
  {
   "cell_type": "markdown",
   "metadata": {},
   "source": [
    "## Tokenization"
   ]
  },
  {
   "cell_type": "code",
   "execution_count": 15,
   "metadata": {},
   "outputs": [
    {
     "name": "stdout",
     "output_type": "stream",
     "text": [
      "['the', 'first', 'time', 'you', 'see', 'the', 'second', 'renaissance', 'it', 'may', 'look', 'boring', 'look', 'at', 'it', 'at', 'least', 'twice', 'and', 'definitely', 'watch', 'part', '2', 'it', 'will', 'change', 'your', 'view', 'of', 'the', 'matrix', 'are', 'the', 'human', 'people', 'the', 'ones', 'who', 'started', 'the', 'war', 'is', 'ai', 'a', 'bad', 'thing']\n"
     ]
    }
   ],
   "source": [
    "# Split text into tokens (words)\n",
    "words = text.split()\n",
    "print(words)"
   ]
  },
  {
   "cell_type": "markdown",
   "metadata": {},
   "source": [
    "### NLTK: Natural Language ToolKit"
   ]
  },
  {
   "cell_type": "code",
   "execution_count": 16,
   "metadata": {},
   "outputs": [],
   "source": [
    "import os\n",
    "import nltk\n",
    "nltk.data.path.append(os.path.join(os.getcwd(), \"nltk_data\"))"
   ]
  },
  {
   "cell_type": "code",
   "execution_count": 17,
   "metadata": {},
   "outputs": [
    {
     "name": "stdout",
     "output_type": "stream",
     "text": [
      "Dr. Smith graduated from the University of Washington. He later started an analytics firm called Lux, which catered to enterprise customers.\n"
     ]
    }
   ],
   "source": [
    "# Another sample text\n",
    "text = \"Dr. Smith graduated from the University of Washington. He later started an analytics firm called Lux, which catered to enterprise customers.\"\n",
    "print(text)"
   ]
  },
  {
   "cell_type": "code",
   "execution_count": 18,
   "metadata": {},
   "outputs": [
    {
     "name": "stdout",
     "output_type": "stream",
     "text": [
      "['Dr.', 'Smith', 'graduated', 'from', 'the', 'University', 'of', 'Washington', '.', 'He', 'later', 'started', 'an', 'analytics', 'firm', 'called', 'Lux', ',', 'which', 'catered', 'to', 'enterprise', 'customers', '.']\n"
     ]
    }
   ],
   "source": [
    "from nltk.tokenize import word_tokenize\n",
    "\n",
    "# Split text into words using NLTK\n",
    "words = word_tokenize(text)\n",
    "print(words)"
   ]
  },
  {
   "cell_type": "code",
   "execution_count": 19,
   "metadata": {},
   "outputs": [
    {
     "name": "stdout",
     "output_type": "stream",
     "text": [
      "['Dr. Smith graduated from the University of Washington.', 'He later started an analytics firm called Lux, which catered to enterprise customers.']\n"
     ]
    }
   ],
   "source": [
    "from nltk.tokenize import sent_tokenize\n",
    "\n",
    "# Split text into sentences\n",
    "sentences = sent_tokenize(text)\n",
    "print(sentences)"
   ]
  },
  {
   "cell_type": "code",
   "execution_count": 20,
   "metadata": {},
   "outputs": [
    {
     "name": "stdout",
     "output_type": "stream",
     "text": [
      "['i', 'me', 'my', 'myself', 'we', 'our', 'ours', 'ourselves', 'you', \"you're\", \"you've\", \"you'll\", \"you'd\", 'your', 'yours', 'yourself', 'yourselves', 'he', 'him', 'his', 'himself', 'she', \"she's\", 'her', 'hers', 'herself', 'it', \"it's\", 'its', 'itself', 'they', 'them', 'their', 'theirs', 'themselves', 'what', 'which', 'who', 'whom', 'this', 'that', \"that'll\", 'these', 'those', 'am', 'is', 'are', 'was', 'were', 'be', 'been', 'being', 'have', 'has', 'had', 'having', 'do', 'does', 'did', 'doing', 'a', 'an', 'the', 'and', 'but', 'if', 'or', 'because', 'as', 'until', 'while', 'of', 'at', 'by', 'for', 'with', 'about', 'against', 'between', 'into', 'through', 'during', 'before', 'after', 'above', 'below', 'to', 'from', 'up', 'down', 'in', 'out', 'on', 'off', 'over', 'under', 'again', 'further', 'then', 'once', 'here', 'there', 'when', 'where', 'why', 'how', 'all', 'any', 'both', 'each', 'few', 'more', 'most', 'other', 'some', 'such', 'no', 'nor', 'not', 'only', 'own', 'same', 'so', 'than', 'too', 'very', 's', 't', 'can', 'will', 'just', 'don', \"don't\", 'should', \"should've\", 'now', 'd', 'll', 'm', 'o', 're', 've', 'y', 'ain', 'aren', \"aren't\", 'couldn', \"couldn't\", 'didn', \"didn't\", 'doesn', \"doesn't\", 'hadn', \"hadn't\", 'hasn', \"hasn't\", 'haven', \"haven't\", 'isn', \"isn't\", 'ma', 'mightn', \"mightn't\", 'mustn', \"mustn't\", 'needn', \"needn't\", 'shan', \"shan't\", 'shouldn', \"shouldn't\", 'wasn', \"wasn't\", 'weren', \"weren't\", 'won', \"won't\", 'wouldn', \"wouldn't\"]\n"
     ]
    }
   ],
   "source": [
    "# List stop words\n",
    "from nltk.corpus import stopwords\n",
    "print(stopwords.words(\"english\"))"
   ]
  },
  {
   "cell_type": "code",
   "execution_count": 21,
   "metadata": {},
   "outputs": [
    {
     "name": "stdout",
     "output_type": "stream",
     "text": [
      "['the', 'first', 'time', 'you', 'see', 'the', 'second', 'renaissance', 'it', 'may', 'look', 'boring', 'look', 'at', 'it', 'at', 'least', 'twice', 'and', 'definitely', 'watch', 'part', '2', 'it', 'will', 'change', 'your', 'view', 'of', 'the', 'matrix', 'are', 'the', 'human', 'people', 'the', 'ones', 'who', 'started', 'the', 'war', 'is', 'ai', 'a', 'bad', 'thing']\n"
     ]
    }
   ],
   "source": [
    "# Reset text\n",
    "text = \"The first time you see The Second Renaissance it may look boring. Look at it at least twice and definitely watch part 2. It will change your view of the matrix. Are the human people the ones who started the war ? Is AI a bad thing ?\"\n",
    "\n",
    "# Normalize it\n",
    "text = re.sub(r\"[^a-zA-Z0-9]\", \" \", text.lower())\n",
    "\n",
    "# Tokenize it\n",
    "words = text.split()\n",
    "print(words)"
   ]
  },
  {
   "cell_type": "code",
   "execution_count": 22,
   "metadata": {},
   "outputs": [
    {
     "name": "stdout",
     "output_type": "stream",
     "text": [
      "['first', 'time', 'see', 'second', 'renaissance', 'may', 'look', 'boring', 'look', 'least', 'twice', 'definitely', 'watch', 'part', '2', 'change', 'view', 'matrix', 'human', 'people', 'ones', 'started', 'war', 'ai', 'bad', 'thing']\n"
     ]
    }
   ],
   "source": [
    "# Remove stop words\n",
    "words = [w for w in words if w not in stopwords.words(\"english\")]\n",
    "print(words)"
   ]
  },
  {
   "cell_type": "markdown",
   "metadata": {},
   "source": [
    "### Sentence Parsing"
   ]
  },
  {
   "cell_type": "code",
   "execution_count": 23,
   "metadata": {},
   "outputs": [
    {
     "name": "stdout",
     "output_type": "stream",
     "text": [
      "(S\n",
      "  (NP I)\n",
      "  (VP\n",
      "    (VP (V shot) (NP (Det an) (N elephant)))\n",
      "    (PP (P in) (NP (Det my) (N pajamas)))))\n",
      "(S\n",
      "  (NP I)\n",
      "  (VP\n",
      "    (V shot)\n",
      "    (NP (Det an) (N elephant) (PP (P in) (NP (Det my) (N pajamas))))))\n"
     ]
    }
   ],
   "source": [
    "import nltk\n",
    "\n",
    "# Define a custom grammar\n",
    "my_grammar = nltk.CFG.fromstring(\"\"\"\n",
    "S -> NP VP\n",
    "PP -> P NP\n",
    "NP -> Det N | Det N PP | 'I'\n",
    "VP -> V NP | VP PP\n",
    "Det -> 'an' | 'my'\n",
    "N -> 'elephant' | 'pajamas'\n",
    "V -> 'shot'\n",
    "P -> 'in'\n",
    "\"\"\")\n",
    "parser = nltk.ChartParser(my_grammar)\n",
    "\n",
    "# Parse a sentence\n",
    "sentence = word_tokenize(\"I shot an elephant in my pajamas\")\n",
    "for tree in parser.parse(sentence):\n",
    "    print(tree)\n"
   ]
  },
  {
   "cell_type": "markdown",
   "metadata": {},
   "source": [
    "## Stemming & Lemmatization\n",
    "\n",
    "### Stemming"
   ]
  },
  {
   "cell_type": "code",
   "execution_count": 24,
   "metadata": {},
   "outputs": [
    {
     "name": "stdout",
     "output_type": "stream",
     "text": [
      "['first', 'time', 'see', 'second', 'renaiss', 'may', 'look', 'bore', 'look', 'least', 'twice', 'definit', 'watch', 'part', '2', 'chang', 'view', 'matrix', 'human', 'peopl', 'one', 'start', 'war', 'ai', 'bad', 'thing']\n"
     ]
    }
   ],
   "source": [
    "from nltk.stem.porter import PorterStemmer\n",
    "\n",
    "# Reduce words to their stems\n",
    "stemmed = [PorterStemmer().stem(w) for w in words]\n",
    "print(stemmed)"
   ]
  },
  {
   "cell_type": "markdown",
   "metadata": {},
   "source": [
    "### Lemmatization"
   ]
  },
  {
   "cell_type": "code",
   "execution_count": 31,
   "metadata": {},
   "outputs": [
    {
     "name": "stderr",
     "output_type": "stream",
     "text": [
      "[nltk_data] Downloading package omw-1.4 to\n",
      "[nltk_data]     C:\\Users\\Ankira\\AppData\\Roaming\\nltk_data...\n",
      "[nltk_data]   Package omw-1.4 is already up-to-date!\n"
     ]
    },
    {
     "data": {
      "text/plain": [
       "True"
      ]
     },
     "execution_count": 31,
     "metadata": {},
     "output_type": "execute_result"
    }
   ],
   "source": [
    "# Next cell needs the following package to work\n",
    "nltk.download('omw-1.4')"
   ]
  },
  {
   "cell_type": "code",
   "execution_count": 32,
   "metadata": {},
   "outputs": [
    {
     "name": "stdout",
     "output_type": "stream",
     "text": [
      "['first', 'time', 'see', 'second', 'renaissance', 'may', 'look', 'boring', 'look', 'least', 'twice', 'definitely', 'watch', 'part', '2', 'change', 'view', 'matrix', 'human', 'people', 'one', 'started', 'war', 'ai', 'bad', 'thing']\n"
     ]
    }
   ],
   "source": [
    "from nltk.stem.wordnet import WordNetLemmatizer\n",
    "\n",
    "# Reduce words to their root form\n",
    "lemmed = [WordNetLemmatizer().lemmatize(w) for w in words]\n",
    "print(lemmed)"
   ]
  },
  {
   "cell_type": "code",
   "execution_count": 33,
   "metadata": {},
   "outputs": [
    {
     "name": "stdout",
     "output_type": "stream",
     "text": [
      "['first', 'time', 'see', 'second', 'renaissance', 'may', 'look', 'bore', 'look', 'least', 'twice', 'definitely', 'watch', 'part', '2', 'change', 'view', 'matrix', 'human', 'people', 'one', 'start', 'war', 'ai', 'bad', 'thing']\n"
     ]
    }
   ],
   "source": [
    "# Lemmatize verbs by specifying pos\n",
    "lemmed = [WordNetLemmatizer().lemmatize(w, pos='v') for w in lemmed]\n",
    "print(lemmed)"
   ]
  }
 ],
 "metadata": {
  "kernelspec": {
   "display_name": "Python 3 (ipykernel)",
   "language": "python",
   "name": "python3"
  },
  "language_info": {
   "codemirror_mode": {
    "name": "ipython",
    "version": 3
   },
   "file_extension": ".py",
   "mimetype": "text/x-python",
   "name": "python",
   "nbconvert_exporter": "python",
   "pygments_lexer": "ipython3",
   "version": "3.7.13"
  }
 },
 "nbformat": 4,
 "nbformat_minor": 2
}
